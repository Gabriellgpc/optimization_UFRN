{
  "nbformat": 4,
  "nbformat_minor": 0,
  "metadata": {
    "colab": {
      "name": "Lista_Simplex.ipynb",
      "provenance": [],
      "collapsed_sections": [
        "Y3PsbKSoe51M",
        "TDZPWPpgwvXb",
        "es8L2hWU5Krw"
      ],
      "mount_file_id": "1QGJDMK-OjcI5GbNF72MuA5iYjy1uxROG",
      "authorship_tag": "ABX9TyPYbI9je+Tsqm0jaS/9M1ZX",
      "include_colab_link": true
    },
    "kernelspec": {
      "name": "python3",
      "display_name": "Python 3"
    }
  },
  "cells": [
    {
      "cell_type": "markdown",
      "metadata": {
        "id": "view-in-github",
        "colab_type": "text"
      },
      "source": [
        "<a href=\"https://colab.research.google.com/github/Gabriellgpc/optimization_UFRN/blob/master/Lista_Simplex.ipynb\" target=\"_parent\"><img src=\"https://colab.research.google.com/assets/colab-badge.svg\" alt=\"Open In Colab\"/></a>"
      ]
    },
    {
      "cell_type": "code",
      "metadata": {
        "id": "sikj4FF_d5Pm",
        "colab_type": "code",
        "colab": {}
      },
      "source": [
        "import numpy as np\n",
        "from numpy import inf\n",
        "np.set_printoptions(precision=2)"
      ],
      "execution_count": 1,
      "outputs": []
    },
    {
      "cell_type": "markdown",
      "metadata": {
        "id": "WJj4z3IzevXw",
        "colab_type": "text"
      },
      "source": [
        "# Funções"
      ]
    },
    {
      "cell_type": "code",
      "metadata": {
        "id": "02DWugU9mFeI",
        "colab_type": "code",
        "colab": {}
      },
      "source": [
        "def eliminacaoJordan(A, pivo):\n",
        "  # normaliza a linha pivo, elemento pivo igual a 1\n",
        "  A[pivo[0],:] = A[pivo[0],:]/A[pivo]\n",
        "  # zera os elementos a cima e a baixo na coluna do elemento pivo\n",
        "  # linha do elemento pivo\n",
        "  Lp = A[pivo[0],:]\n",
        "  ipivo, jpivo = pivo\n",
        "  for i in range(A.shape[0]):\n",
        "    if i != ipivo:\n",
        "      A[i,:] = A[i,:] - A[i,jpivo]*Lp\n",
        "\n",
        "def fatorLimitante(col_pivo, b):\n",
        "  f_lim = list()\n",
        "  for ai, bi in zip(col_pivo, b):\n",
        "    if ai == 0.0:\n",
        "      f_lim.append(inf)\n",
        "    elif bi/ai < 0.0:  \n",
        "      f_lim.append(inf)\n",
        "    else:\n",
        "      f_lim.append(bi/ai) \n",
        "  return f_lim"
      ],
      "execution_count": 2,
      "outputs": []
    },
    {
      "cell_type": "code",
      "metadata": {
        "id": "SAW7FJIhfBK5",
        "colab_type": "code",
        "colab": {}
      },
      "source": [
        "def simplex(Aa, B, itMax = 50, _it = 0):\n",
        "  # Garante que os elementos da base são os elementos pivos da matriz\n",
        "  if _it == 0:\n",
        "    for i in range(0,len(B)):\n",
        "        pivo = (i+1, B[i])\n",
        "        eliminacaoJordan(Aa, pivo)\n",
        "  print('({})'.format(_it))\n",
        "  print(Aa)\n",
        "  print('Colunas da Base:',B)\n",
        "  # Var. nao basicas\n",
        "  U = set(range(1,Aa.shape[1]-1))\n",
        "  nB = U.difference(B)\n",
        "  print('Não base:', nB)\n",
        "  # Quem entra na base\n",
        "  # coef. mais negativo na linha zero\n",
        "  minimum = Aa[0,list(nB)].min()  \n",
        "  # Quem deve sair da base\n",
        "  b = Aa[:, Aa.shape[1] - 1]\n",
        "  #index da coluna do elemento mais significante da linha zero \n",
        "  jpivo = Aa[0,:].tolist().index(minimum)  \n",
        "  # calcula fatores limitantes para entrada de xj\n",
        "  fat_lim = fatorLimitante(Aa[1:,jpivo],b[1:])\n",
        "  lpivo = fat_lim.index(min(fat_lim))\n",
        "  # tratando imprecisão\n",
        "  if np.isclose(minimum, 0.0, rtol=1e-05, atol=1e-08):\n",
        "    minimum = 0.0\n",
        "  # condição de parada\n",
        "  # se não tiver coef. negativo na linha zero (não melhora mais)\n",
        "  # ou iterações máximas atingidas\n",
        "  # ou sem fator limitante (multiplas soluções)\n",
        "  if (minimum >= 0.0) or (_it == itMax) or (min(fat_lim) == inf):\n",
        "    Zmax = Aa[0, -1]\n",
        "    x = Aa[1:, -1].copy()\n",
        "    print('X_base:')\n",
        "    for xi in range(len(B)):\n",
        "      print('X{0:d} = {1:04.2f}'.format(B[xi], Aa[xi+1,-1]))\n",
        "    return [Zmax, x, B, _it]\n",
        "  print('Fatores limitantes para entrada de X{}: {}'.format(jpivo, fat_lim))\n",
        "  # atualiza Base\n",
        "  B[lpivo] = jpivo\n",
        "  pivo = (lpivo+1, jpivo)\n",
        "  eliminacaoJordan(Aa, pivo)\n",
        "  \n",
        "  return simplex(Aa, B, itMax, _it = _it + 1)"
      ],
      "execution_count": 3,
      "outputs": []
    },
    {
      "cell_type": "markdown",
      "metadata": {
        "id": "H07wL27beyHj",
        "colab_type": "text"
      },
      "source": [
        "# Questão 1"
      ]
    },
    {
      "cell_type": "markdown",
      "metadata": {
        "id": "qIQKvxkgL6ZZ",
        "colab_type": "text"
      },
      "source": [
        "\\begin{equation}\n",
        "Máx. Z = 7x_1 + 9x_2\n",
        "\\end{equation}\n",
        "\n",
        "\\\\\n",
        "\\begin{cases}\n",
        "x_1 - x_2 \\geq -2 \\\\\n",
        "3x_1 + 5x_2 \\geq 15 \\\\\n",
        "5x_1 + 4x_2 \\geq 20 \\\\\n",
        "x_1,x_2 \\geq 0 \\\\\n",
        "\\end{cases}\n",
        "\n",
        "Colocando na forma canônica, utilizando variaveis de folga e variaveis artificiais, teremos:\n",
        "\n",
        "\\begin{cases}\n",
        "z - 7x_1 - 9x_2 + M(x_6 + x_7) = 0\\\\\n",
        "-x_1 + x_2 + x_3 = 2\\\\\n",
        "-3x_1 - 5x_2 - x_4 + x_6 = 15\\\\\n",
        "-5x_1 - 4x_2 - x_5 + x_7 = 2\\\\\n",
        "\\end{cases}\n",
        "\n",
        "\\\\\n",
        "\\begin{equation}\n",
        "A_a = \n",
        "\\begin{bmatrix}\n",
        "1& -7& -9& 0& 0& 0& M& M& 0\\\\\n",
        "0& -1& 1& 1& 0& 0& 0& 0& 2\\\\\n",
        "0& 3& 5& 0& -1& 0& 1& 0& 15\\\\\n",
        "0& 3& 5& 0& -1& 0& 1& 0& 15\\\\\n",
        "0& 5& 4& 0& 0& -1& 0& 1& 20\n",
        "\\end{bmatrix}\\\\\n",
        "B = \\{x_3, x_6, x_7\\}\n",
        "\\end{equation}"
      ]
    },
    {
      "cell_type": "code",
      "metadata": {
        "id": "NtHxVJ4Z_vZb",
        "colab_type": "code",
        "colab": {
          "base_uri": "https://localhost:8080/",
          "height": 748
        },
        "outputId": "1f96a9d6-308b-46f7-e612-29cc4878c1ff"
      },
      "source": [
        "# Método do M grande\n",
        "M = 8\n",
        "Aa = np.array([[1, -7, -9, 0, 0, 0, M, M, 0],\n",
        "               [0, -1 ,1, 1 ,0, 0, 0 ,0 ,2],\n",
        "               [0, 3 ,5 ,0 ,-1 ,0 ,1 ,0, 15],\n",
        "               [0 ,5, 4 ,0 ,0 ,-1, 0 ,1 ,20] ], dtype = np.double)\n",
        "B = [3, 6,7]\n",
        "r = simplex(Aa,B)"
      ],
      "execution_count": 4,
      "outputs": [
        {
          "output_type": "stream",
          "text": [
            "(0)\n",
            "[[   1.  -71.  -81.    0.    8.    8.    0.    0. -280.]\n",
            " [   0.   -1.    1.    1.    0.    0.    0.    0.    2.]\n",
            " [   0.    3.    5.    0.   -1.    0.    1.    0.   15.]\n",
            " [   0.    5.    4.    0.    0.   -1.    0.    1.   20.]]\n",
            "Colunas da Base: [3, 6, 7]\n",
            "Não base: {1, 2, 4, 5}\n",
            "Fatores limitantes para entrada de X2: [2.0, 3.0, 5.0]\n",
            "(1)\n",
            "[[   1. -152.    0.   81.    8.    8.    0.    0. -118.]\n",
            " [   0.   -1.    1.    1.    0.    0.    0.    0.    2.]\n",
            " [   0.    8.    0.   -5.   -1.    0.    1.    0.    5.]\n",
            " [   0.    9.    0.   -4.    0.   -1.    0.    1.   12.]]\n",
            "Colunas da Base: [2, 6, 7]\n",
            "Não base: {1, 3, 4, 5}\n",
            "Fatores limitantes para entrada de X1: [inf, 0.625, 1.3333333333333333]\n",
            "(2)\n",
            "[[  1.     0.     0.   -14.   -11.     8.    19.     0.   -23.  ]\n",
            " [  0.     0.     1.     0.38  -0.12   0.     0.12   0.     2.62]\n",
            " [  0.     1.     0.    -0.62  -0.12   0.     0.12   0.     0.62]\n",
            " [  0.     0.     0.     1.62   1.12  -1.    -1.12   1.     6.38]]\n",
            "Colunas da Base: [2, 1, 7]\n",
            "Não base: {3, 4, 5, 6}\n",
            "Fatores limitantes para entrada de X3: [7.0, inf, 3.923076923076923]\n",
            "(3)\n",
            "[[ 1.    0.    0.    0.   -1.31 -0.62  9.31  8.62 31.92]\n",
            " [ 0.    0.    1.    0.   -0.38  0.23  0.38 -0.23  1.15]\n",
            " [ 0.    1.    0.    0.    0.31 -0.38 -0.31  0.38  3.08]\n",
            " [ 0.    0.    0.    1.    0.69 -0.62 -0.69  0.62  3.92]]\n",
            "Colunas da Base: [2, 1, 3]\n",
            "Não base: {4, 5, 6, 7}\n",
            "Fatores limitantes para entrada de X4: [inf, 9.999999999999998, 5.666666666666667]\n",
            "(4)\n",
            "[[ 1.    0.    0.    1.89  0.   -1.78  8.    9.78 39.33]\n",
            " [ 0.    0.    1.    0.56  0.   -0.11  0.    0.11  3.33]\n",
            " [ 0.    1.    0.   -0.44  0.   -0.11  0.    0.11  1.33]\n",
            " [ 0.    0.    0.    1.44  1.   -0.89 -1.    0.89  5.67]]\n",
            "Colunas da Base: [2, 1, 4]\n",
            "Não base: {3, 5, 6, 7}\n",
            "X_base:\n",
            "X2 = 3.33\n",
            "X1 = 1.33\n",
            "X4 = 5.67\n"
          ],
          "name": "stdout"
        }
      ]
    },
    {
      "cell_type": "markdown",
      "metadata": {
        "id": "Y3PsbKSoe51M",
        "colab_type": "text"
      },
      "source": [
        "# Questão 2"
      ]
    },
    {
      "cell_type": "markdown",
      "metadata": {
        "id": "mN8nu8Ckq-P_",
        "colab_type": "text"
      },
      "source": [
        "\\begin{equation}\n",
        "Máx. Z = 3x_1 + 2x_2 + 5x_3\n",
        "\\end{equation}\n",
        "\n",
        "\\begin{cases}\n",
        "z -3x_1 - 2x_2 - 5x_3 = 0\\\\\n",
        "2x_1 + 3x_2 + 4x_3 \\leq 10\\\\\n",
        "5x_1 + 6x_2 + 2x_3 \\leq 12\n",
        "\\end{cases}\n",
        "\n",
        "Váriaveis de folga,\n",
        "\n",
        "\\begin{cases}\n",
        "z -3x_1 - 2x_2 - 5x_3 = 0\\\\\n",
        "2x_1 + 3x_2 + 4x_3 + x_4 = 10\\\\\n",
        "5x_1 + 6x_2 + 2x_3 + x_5 = 12\n",
        "\\end{cases}\n",
        "\n",
        "\\\\\n",
        "\\begin{bmatrix} \n",
        "1 & -3 & -2 & -5 & 0 & 0 & 0  \\\\ \n",
        "0 &  2 &  3 &  4 & 1 & 0 & 10 \\\\ \n",
        "0 &  5 &  6 &  2 & 0 & 1 & 12 \\\\ \n",
        "\\end{bmatrix}\n",
        "\n",
        "Base inicial, $B = \\{x_4, x_5\\}$\n",
        "\n"
      ]
    },
    {
      "cell_type": "code",
      "metadata": {
        "id": "8x9zJPBNmn7Z",
        "colab_type": "code",
        "colab": {
          "base_uri": "https://localhost:8080/",
          "height": 408
        },
        "outputId": "5163f8ff-16f7-4f52-bde5-5e4ac9582d70"
      },
      "source": [
        "Aa = np.array([[1, -3, -2, -5, 0, 0, 0],\n",
        "               [0, 2, 3, 4, 1, 0, 10,],\n",
        "               [0, 5, 6, 2, 0, 1, 12]], dtype = float)\n",
        "B = [4, 5]\n",
        "\n",
        "r = simplex(Aa, B, itMax = 10)"
      ],
      "execution_count": 5,
      "outputs": [
        {
          "output_type": "stream",
          "text": [
            "(0)\n",
            "[[ 1. -3. -2. -5.  0.  0.  0.]\n",
            " [ 0.  2.  3.  4.  1.  0. 10.]\n",
            " [ 0.  5.  6.  2.  0.  1. 12.]]\n",
            "Colunas da Base: [4, 5]\n",
            "Não base: {1, 2, 3}\n",
            "Fatores limitantes para entrada de X3: [2.5, 6.0]\n",
            "(1)\n",
            "[[ 1.   -0.5   1.75  0.    1.25  0.   12.5 ]\n",
            " [ 0.    0.5   0.75  1.    0.25  0.    2.5 ]\n",
            " [ 0.    4.    4.5   0.   -0.5   1.    7.  ]]\n",
            "Colunas da Base: [3, 5]\n",
            "Não base: {1, 2, 4}\n",
            "Fatores limitantes para entrada de X1: [5.0, 1.75]\n",
            "(2)\n",
            "[[ 1.    0.    2.31  0.    1.19  0.12 13.38]\n",
            " [ 0.    0.    0.19  1.    0.31 -0.12  1.62]\n",
            " [ 0.    1.    1.12  0.   -0.12  0.25  1.75]]\n",
            "Colunas da Base: [3, 1]\n",
            "Não base: {2, 4, 5}\n",
            "X_base:\n",
            "X3 = 1.62\n",
            "X1 = 1.75\n"
          ],
          "name": "stdout"
        }
      ]
    },
    {
      "cell_type": "markdown",
      "metadata": {
        "id": "TDZPWPpgwvXb",
        "colab_type": "text"
      },
      "source": [
        "# Questão 3"
      ]
    },
    {
      "cell_type": "markdown",
      "metadata": {
        "id": "H8kSxvXBEbh3",
        "colab_type": "text"
      },
      "source": [
        "\\begin{equation}\n",
        "Máx. Z = x_4 + x_5 + x_6\\\\\n",
        "\\begin{cases}\n",
        "-x_1 - 2x_3 + x_4 = 5\\\\\n",
        "2x_1 - 3x_2 + x_3 + x_5 = 3\\\\\n",
        "2_x1 - 5x_2 + 6x_3 + x_6 = 5\\\\\n",
        "x_1,x_2,x_3 \\geq 0 \\\\\n",
        "x_4,x_5,x_6: qualquer\n",
        "\\end{cases}\n",
        "\\end{equation}\n",
        "\n",
        "Substituição de variaveis,\n",
        "\n",
        "\\begin{cases}\n",
        "x_4 = x'_4 - x''_4\\\\\n",
        "x_5 = x'_5 - x''_5\\\\\n",
        "x_6 = x'_6 - x''_6\n",
        "\\end{cases}\n",
        "\n",
        "\\begin{cases}\n",
        "Z - x'_4 + x''_4 - x'_5 + x''_5 - x'_6 + x''_6 = 0\\\\\n",
        "-x_1 + 2x_3 + x'_4 - x''_4 = 5\\\\\n",
        "2x_1 - 3x_2 + x_3 + x'_5 - x''_5 = 3\\\\\n",
        "2x_1 - 5x_2 + 6x_3 + x'_6 - x''_6 = 5\n",
        "\\end{cases}\n",
        "\n",
        "Com isso temos um sistema em que todas as variaveis são $x \\geq 0$.\n",
        "\n",
        "\\begin{equation}\n",
        "A_a = \n",
        "\\begin{bmatrix}\n",
        "1& 0& 0& 0& -1& 1& -1& 1& -1& 1& 0\\\\\n",
        "0& -1& 0& -2& 1& -1& 0& 0& 0& 0& 5\\\\\n",
        "0& 2& -3& 1& 0& 0& 1& -1& 0& 0& 3\\\\\n",
        "0& 2& -5& 6& 0& 0& 0& 0& 1& -1& 5\n",
        "\\end{bmatrix}\n",
        "\\\\\n",
        "B = \\{x'_4, x''_5, x'_6\\}\n",
        "\\end{equation}\n"
      ]
    },
    {
      "cell_type": "code",
      "metadata": {
        "id": "42F-S77f7lgE",
        "colab_type": "code",
        "colab": {
          "base_uri": "https://localhost:8080/",
          "height": 612
        },
        "outputId": "0191bb5c-f0ea-4718-a55a-f0cdfe15fffb"
      },
      "source": [
        "# x4, x5, x6 qualquer\n",
        "Aa = np.array([[1, 0, 0, 0, 1, -1, 1, -1, 1, -1, 0],\n",
        "               [0, -1, 0, -2, 1, -1, 0, 0, 0, 0, 5],\n",
        "               [0, 2, -3, 1, 0, 0, 1, -1, 0, 0, 3],\n",
        "               [0, 2, -5, 6, 0, 0, 0, 0, 1, -1, 5]],dtype = float)\n",
        "B = [4, 6, 8]\n",
        "\n",
        "r = simplex(Aa,B)"
      ],
      "execution_count": 6,
      "outputs": [
        {
          "output_type": "stream",
          "text": [
            "(0)\n",
            "[[  1.  -3.   8.  -5.   0.   0.   0.   0.   0.   0. -13.]\n",
            " [  0.  -1.   0.  -2.   1.  -1.   0.   0.   0.   0.   5.]\n",
            " [  0.   2.  -3.   1.   0.   0.   1.  -1.   0.   0.   3.]\n",
            " [  0.   2.  -5.   6.   0.   0.   0.   0.   1.  -1.   5.]]\n",
            "Colunas da Base: [4, 6, 8]\n",
            "Não base: {1, 2, 3, 5, 7, 9}\n",
            "Fatores limitantes para entrada de X3: [inf, 3.0, 0.8333333333333334]\n",
            "(1)\n",
            "[[ 1.   -1.33  3.83  0.    0.    0.    0.    0.    0.83 -0.83 -8.83]\n",
            " [ 0.   -0.33 -1.67  0.    1.   -1.    0.    0.    0.33 -0.33  6.67]\n",
            " [ 0.    1.67 -2.17  0.    0.    0.    1.   -1.   -0.17  0.17  2.17]\n",
            " [ 0.    0.33 -0.83  1.    0.    0.    0.    0.    0.17 -0.17  0.83]]\n",
            "Colunas da Base: [4, 6, 3]\n",
            "Não base: {1, 2, 5, 7, 8, 9}\n",
            "Fatores limitantes para entrada de X1: [inf, 1.2999999999999998, 2.5000000000000004]\n",
            "(2)\n",
            "[[ 1.   0.   2.1  0.   0.   0.   0.8 -0.8  0.7 -0.7 -7.1]\n",
            " [ 0.   0.  -2.1  0.   1.  -1.   0.2 -0.2  0.3 -0.3  7.1]\n",
            " [ 0.   1.  -1.3  0.   0.   0.   0.6 -0.6 -0.1  0.1  1.3]\n",
            " [ 0.   0.  -0.4  1.   0.   0.  -0.2  0.2  0.2 -0.2  0.4]]\n",
            "Colunas da Base: [4, 1, 3]\n",
            "Não base: {2, 5, 6, 7, 8, 9}\n",
            "Fatores limitantes para entrada de X7: [inf, inf, 2.000000000000001]\n",
            "(3)\n",
            "[[ 1.   0.   0.5  4.   0.   0.   0.   0.   1.5 -1.5 -5.5]\n",
            " [ 0.   0.  -2.5  1.   1.  -1.   0.   0.   0.5 -0.5  7.5]\n",
            " [ 0.   1.  -2.5  3.   0.   0.   0.   0.   0.5 -0.5  2.5]\n",
            " [ 0.   0.  -2.   5.   0.   0.  -1.   1.   1.  -1.   2. ]]\n",
            "Colunas da Base: [4, 1, 7]\n",
            "Não base: {2, 3, 5, 6, 8, 9}\n",
            "X_base:\n",
            "X4 = 7.50\n",
            "X1 = 2.50\n",
            "X7 = 2.00\n"
          ],
          "name": "stdout"
        }
      ]
    },
    {
      "cell_type": "markdown",
      "metadata": {
        "id": "es8L2hWU5Krw",
        "colab_type": "text"
      },
      "source": [
        "\n",
        "# Questão 4\n",
        "\n",
        "Método gráfico."
      ]
    },
    {
      "cell_type": "markdown",
      "metadata": {
        "id": "9LYylTJVXPEf",
        "colab_type": "text"
      },
      "source": [
        "\\begin{cases}\n",
        "x_2 = \\frac{z_0 - 7x_1}{9}\\\\\n",
        "x_2 \\leq x_1 + 2\\\\\n",
        "x_2 \\leq \\frac{3x_1 - 15}{5}\\\\\n",
        "x_2 \\leq \\frac{5x_1 - 20}{4}\\\\\n",
        "\\end{cases}"
      ]
    },
    {
      "cell_type": "code",
      "metadata": {
        "id": "0Ju0s9-LWWvF",
        "colab_type": "code",
        "colab": {
          "base_uri": "https://localhost:8080/",
          "height": 285
        },
        "outputId": "64470cd7-ab9f-435a-ccb1-3079c4a32677"
      },
      "source": [
        "import matplotlib.pyplot as plt\n",
        "import numpy as np\n",
        "\n",
        "x1 = np.linspace(0, 20, 100)\n",
        "x2 = [x1 + 2, 3.0 - (3.0/5.0)*x1, 5.0 - (5.0/4.0)*x1]\n",
        "\n",
        "plt.plot(x1, x2[0], label = r'$x_2 = x_1 + 2$')\n",
        "plt.plot(x1, x2[1], label = r'$x_2 = 3 - \\frac{3}{5}x_1$')\n",
        "plt.plot(x1, x2[2], label = r'$x_2 = 5 - \\frac{5}{4}x_1$')\n",
        "\n",
        "plt.fill_between(x1, x2[0], 0)\n",
        "plt.fill_between(x1, x2[2], 0, facecolor='white')\n",
        "plt.fill_between(x1, x2[1], 0, facecolor='white')\n",
        "\n",
        "plt.legend()\n",
        "plt.xlim([0,5])\n",
        "plt.ylim([0,6])\n",
        "plt.ylabel(r'$x_2$')\n",
        "plt.xlabel(r'$x_1$')\n",
        "plt.show()"
      ],
      "execution_count": 7,
      "outputs": [
        {
          "output_type": "display_data",
          "data": {
            "image/png": "[encoded data removed]",
            "text/plain": [
              "<Figure size 432x288 with 1 Axes>"
            ]
          },
          "metadata": {
            "tags": [],
            "needs_background": "light"
          }
        }
      ]
    },
    {
      "cell_type": "markdown",
      "metadata": {
        "id": "17-PpbWSIr-P",
        "colab_type": "text"
      },
      "source": [
        "Podemos observar então que não existe uma solução ótima, pois o maior $Z$ é um valor infinito, porém devido a natura do algoritmo simplex, ele converge para um valor em que se encontrado o vertex que resulta no maior $Z$ dentre os outros vertex, nesse caso é em $x_1 \\cong 1.3$ e $x_2 \\cong 3.3$."
      ]
    },
    {
      "cell_type": "code",
      "metadata": {
        "id": "B-Z8rZhLlMQo",
        "colab_type": "code",
        "colab": {
          "base_uri": "https://localhost:8080/",
          "height": 248
        },
        "outputId": "359f255c-de1a-4ab8-d4cb-12fc65fd2971"
      },
      "source": [
        "from mpl_toolkits.mplot3d import axes3d\n",
        "import matplotlib.pyplot as plt\n",
        "from matplotlib import cm\n",
        "\n",
        "fig = plt.figure()\n",
        "ax = fig.gca(projection='3d')\n",
        "\n",
        "x1 = np.linspace(0, 10, 100) \n",
        "x2 = np.linspace(0, 10, 100)\n",
        "mask = ((x1 - x2) >= -2.0) & ((3*x1 + 5*x2) >= 15) & ((5*x1  + 4*x2) >= 20)\n",
        "\n",
        "x1= x1[mask]\n",
        "x2= x2[mask]\n",
        "x1, x2 = np.meshgrid(x1, x2)\n",
        "# Plot the 3D surface\n",
        "z = 7*x1 + 9*x2\n",
        "ax.plot_surface(x1, x2, z, rstride=8, cstride=8, alpha=0.3)\n",
        "cset = ax.contourf(x1, x2, z, zdir='z', offset=0, cmap=cm.coolwarm)\n",
        "\n",
        "ax.set_xlim(0, 10)\n",
        "ax.set_ylim(0, 10)\n",
        "ax.set_zlim(0, 100)\n",
        "\n",
        "ax.set_xlabel(r'$x_1$')\n",
        "ax.set_ylabel(r'$x_2$')\n",
        "ax.set_zlabel(r'$z$')\n",
        "\n",
        "plt.show()"
      ],
      "execution_count": 8,
      "outputs": [
        {
          "output_type": "display_data",
          "data": {
            "image/png": "[encoded data removed]",
            "text/plain": [
              "<Figure size 432x288 with 1 Axes>"
            ]
          },
          "metadata": {
            "tags": [],
            "needs_background": "light"
          }
        }
      ]
    },
    {
      "cell_type": "markdown",
      "metadata": {
        "id": "fzhEm10X5GbA",
        "colab_type": "text"
      },
      "source": [
        "# Questão 5"
      ]
    },
    {
      "cell_type": "markdown",
      "metadata": {
        "id": "bhFtsXLlyX6c",
        "colab_type": "text"
      },
      "source": [
        "\\begin{equation}\n",
        "Máx. Z = 4x_1 + 2x_2 + 2x_3\\\\\n",
        "\\begin{cases}\n",
        "x_1 + x_2 + 2x_3 \\leq 4\\\\\n",
        "4x_1 -5x_2 + 3x_3 \\leq 30\\\\\n",
        "x_1, x_3 \\geq 0; x_2: qualquer\n",
        "\\end{cases}\n",
        "\\end{equation}\n",
        "\n",
        "Adaptações para poder aplicar o simplex,\n",
        "\n",
        "\\begin{equation}\n",
        "x_2 = x'_2 - x''_2\\\\\n",
        "x'_2,x''_2 \\geq 0\n",
        "\\end{equation}\n",
        "\n",
        "Com isso e acrescentando variaveis de folga para resolver as inequações, teremos:\n",
        "\n",
        "\\begin{cases}\n",
        "Z - 4x_1 - 2(x'_2 - x''_2) + 2x_3 = 0\\\\\n",
        "x_1 + x'_2 - x''_2  + 2x_3 + x_4 = 4\\\\\n",
        "4x_1 -5(x'_2 - x''_2) + 3x_3 + x_5 = 30\\\\\n",
        "\\end{cases}\n",
        "\n",
        "\\\\\n",
        "\\begin{cases}\n",
        "Z - 4x_1 -2x'_2 + 2x''_2 + 2x_3 = 0\\\\\n",
        "x_1 + x'_2 - x''_2  + 2x_3 + x_4 = 4\\\\\n",
        "4x_1 -5x'_2 + 5x''_2 + 3x_3 + x_5 = 30\\\\\n",
        "x_j \\geq 0 (j = 1, 2, ... 5)\n",
        "\\end{cases}\n",
        "\n",
        "\\\\\n",
        "\\begin{bmatrix}\n",
        "1 &-4& -2& 2& 2& 0& 0& 0\\\\\n",
        "0 &1& 1& -1& 2& 1& 0& 4 \\\\\n",
        "0& 4& -5& 5& 3& 0& 1& 30\n",
        "\\end{bmatrix}\n",
        "\n",
        "\\\\\n",
        "\\begin{equation}\n",
        "B = \\{x_4, x_5\\}\n",
        "\\end{equation}\n",
        "\n"
      ]
    },
    {
      "cell_type": "code",
      "metadata": {
        "id": "gW06I3rryERs",
        "colab_type": "code",
        "colab": {
          "base_uri": "https://localhost:8080/",
          "height": 408
        },
        "outputId": "ea429ec4-1d5b-4ada-c173-63a51d03ee1f"
      },
      "source": [
        "# [x1,x2,x3,x4,x5,x6]\n",
        "Aa = np.array([[0,-4, -2, 2, 2, 0, 0, 0],\n",
        "               [0, 1, 1, -1, 2, 1, 0, 4],\n",
        "               [0, 4, -5, 5, 3, 0, 1, 30]], dtype = float)\n",
        "B = [5,6]\n",
        "\n",
        "r = simplex(Aa,B)"
      ],
      "execution_count": 9,
      "outputs": [
        {
          "output_type": "stream",
          "text": [
            "(0)\n",
            "[[ 0. -4. -2.  2.  2.  0.  0.  0.]\n",
            " [ 0.  1.  1. -1.  2.  1.  0.  4.]\n",
            " [ 0.  4. -5.  5.  3.  0.  1. 30.]]\n",
            "Colunas da Base: [5, 6]\n",
            "Não base: {1, 2, 3, 4}\n",
            "Fatores limitantes para entrada de X1: [4.0, 7.5]\n",
            "(1)\n",
            "[[ 0.  0.  2. -2. 10.  4.  0. 16.]\n",
            " [ 0.  1.  1. -1.  2.  1.  0.  4.]\n",
            " [ 0.  0. -9.  9. -5. -4.  1. 14.]]\n",
            "Colunas da Base: [1, 6]\n",
            "Não base: {2, 3, 4, 5}\n",
            "Fatores limitantes para entrada de X3: [inf, 1.5555555555555556]\n",
            "(2)\n",
            "[[ 0.    0.    0.    0.    8.89  3.11  0.22 19.11]\n",
            " [ 0.    1.    0.    0.    1.44  0.56  0.11  5.56]\n",
            " [ 0.    0.   -1.    1.   -0.56 -0.44  0.11  1.56]]\n",
            "Colunas da Base: [1, 3]\n",
            "Não base: {2, 4, 5, 6}\n",
            "X_base:\n",
            "X1 = 5.56\n",
            "X3 = 1.56\n"
          ],
          "name": "stdout"
        }
      ]
    },
    {
      "cell_type": "markdown",
      "metadata": {
        "id": "c5haKBkL2UKW",
        "colab_type": "text"
      },
      "source": [
        "# Questão 6"
      ]
    },
    {
      "cell_type": "markdown",
      "metadata": {
        "id": "XV8d5A-J2ior",
        "colab_type": "text"
      },
      "source": [
        "\\begin{equation}\n",
        "Mín. Z = -x_1 - 2x_2 + x_3\\\\\n",
        "\\begin{cases}\n",
        "-2x_1 - x_2 + x_3 \\geq -2\\\\\n",
        "2x_1 - x_2 + 5x_3 \\leq 6\\\\\n",
        "-4x_1 - x_2 - x_3 \\geq -6\\\\\n",
        "x_1,x_3 \\geq 0; x_2 sem\\ restrição\n",
        "\\end{cases}\n",
        "\\end{equation}\n",
        "\n",
        "Substituindo $x_2 = x'_2 - x''_2$ e acrescentando variaveis de folga ao Máx($-Z$), deixando na forma canônica teremos então:\n",
        "\n",
        "\\begin{cases}\n",
        "Z& - x_1& -2x'_2& +2x''_2& + x_3&     &    &    &= 0\\\\\n",
        "&   2x_1&  +x'_2& - x''_2& - x_3& +x_4&    &    &= 2\\\\\n",
        "&   2x_1&  -x'_2& + x''_2&  +5x_3&    & +x_5&    &= 6\\\\\n",
        "&   4x_1&  +x'_2& - x''_2&   +x_3&     &    &+x_6&= 6\\\\\n",
        "\\end{cases}\n",
        "\n",
        "Sendo $x_j \\geq 0 (j=1,2,3, ..., 6)$.\n",
        "\n",
        "\\\\\n",
        "\\begin{bmatrix}\n",
        "1& -1& -2& 2& 1& 0& 0& 0& 0\\\\\n",
        "0& 2& 1& -1& -1& 1& 0& 0& 2\\\\\n",
        "0& 2& -1& 1& 5& 0& 1& 0& 6\\\\\n",
        "0& 4& 1& -1& 1& 0& 0& 1& 6\n",
        "\\end{bmatrix}\n"
      ]
    },
    {
      "cell_type": "code",
      "metadata": {
        "id": "ZbpTjgfk2WQZ",
        "colab_type": "code",
        "colab": {
          "base_uri": "https://localhost:8080/",
          "height": 476
        },
        "outputId": "38752d60-03dd-474c-968f-9d8a753b45db"
      },
      "source": [
        "Aa = np.array([[1, -1, -2, 2, 1, 0, 0, 0, 0],\n",
        "               [0, 2, 1, -1, -1, 1, 0, 0, 2],\n",
        "               [0, 2, -1, 1, 5, 0, 1, 0, 6],\n",
        "               [0, 4, 1, -1, 1, 0, 0, 1, 6]], dtype = float)\n",
        "B  = [5, 6 ,7]\n",
        "\n",
        "r = simplex(Aa, B)"
      ],
      "execution_count": 10,
      "outputs": [
        {
          "output_type": "stream",
          "text": [
            "(0)\n",
            "[[ 1. -1. -2.  2.  1.  0.  0.  0.  0.]\n",
            " [ 0.  2.  1. -1. -1.  1.  0.  0.  2.]\n",
            " [ 0.  2. -1.  1.  5.  0.  1.  0.  6.]\n",
            " [ 0.  4.  1. -1.  1.  0.  0.  1.  6.]]\n",
            "Colunas da Base: [5, 6, 7]\n",
            "Não base: {1, 2, 3, 4}\n",
            "Fatores limitantes para entrada de X2: [2.0, inf, 6.0]\n",
            "(1)\n",
            "[[ 1.  3.  0.  0. -1.  2.  0.  0.  4.]\n",
            " [ 0.  2.  1. -1. -1.  1.  0.  0.  2.]\n",
            " [ 0.  4.  0.  0.  4.  1.  1.  0.  8.]\n",
            " [ 0.  2.  0.  0.  2. -1.  0.  1.  4.]]\n",
            "Colunas da Base: [2, 6, 7]\n",
            "Não base: {1, 3, 4, 5}\n",
            "Fatores limitantes para entrada de X4: [inf, 2.0, 2.0]\n",
            "(2)\n",
            "[[ 1.    4.    0.    0.    0.    2.25  0.25  0.    6.  ]\n",
            " [ 0.    3.    1.   -1.    0.    1.25  0.25  0.    4.  ]\n",
            " [ 0.    1.    0.    0.    1.    0.25  0.25  0.    2.  ]\n",
            " [ 0.    0.    0.    0.    0.   -1.5  -0.5   1.    0.  ]]\n",
            "Colunas da Base: [2, 4, 7]\n",
            "Não base: {1, 3, 5, 6}\n",
            "X_base:\n",
            "X2 = 4.00\n",
            "X4 = 2.00\n",
            "X7 = 0.00\n"
          ],
          "name": "stdout"
        }
      ]
    },
    {
      "cell_type": "markdown",
      "metadata": {
        "id": "swOHgLU3UfQt",
        "colab_type": "text"
      },
      "source": [
        "Interpretando o resultado e mapeando para as varáveis do problema:\n",
        "\\begin{cases}\n",
        "Máximo(-Z) &= 6\\\\\n",
        "x'_2 &= 4.0\\\\\n",
        "x_3 &= 2.0\\\\\n",
        "x_6 &= 0.0\\\\\n",
        "\\end{cases}\n",
        "\n",
        "Fazendo as devidas converções para o sistema original temos então:\n",
        "\n",
        "\\begin{cases}\n",
        "Mín.Z &= -6\\\\\n",
        "x_2 &= 4.0\\\\\n",
        "x_3 &= 2.0\n",
        "\\end{cases}\n",
        "\n",
        "E com essa configuração a variável de folga $x_6 = 0$.\n",
        "\n"
      ]
    },
    {
      "cell_type": "markdown",
      "metadata": {
        "id": "q7hyUNJ8V8eB",
        "colab_type": "text"
      },
      "source": [
        "# Questão 7"
      ]
    },
    {
      "cell_type": "code",
      "metadata": {
        "id": "CW93ky4zV99G",
        "colab_type": "code",
        "colab": {
          "base_uri": "https://localhost:8080/",
          "height": 476
        },
        "outputId": "94365d21-2697-4bd1-8228-ae068cb7b112"
      },
      "source": [
        "Aa = np.array([[1, -1, -3, 0, 0, 0, 0],\n",
        "               [0, -1, 2, 1, 0, 0, 4],\n",
        "               [0, 1, 1, 0, 1, 0, 6],\n",
        "               [0, 1, 3, 0, 0, 1, 9]], dtype = float)\n",
        "B = [3,4,5]\n",
        "\n",
        "r = simplex(Aa, B)"
      ],
      "execution_count": 11,
      "outputs": [
        {
          "output_type": "stream",
          "text": [
            "(0)\n",
            "[[ 1. -1. -3.  0.  0.  0.  0.]\n",
            " [ 0. -1.  2.  1.  0.  0.  4.]\n",
            " [ 0.  1.  1.  0.  1.  0.  6.]\n",
            " [ 0.  1.  3.  0.  0.  1.  9.]]\n",
            "Colunas da Base: [3, 4, 5]\n",
            "Não base: {1, 2}\n",
            "Fatores limitantes para entrada de X2: [2.0, 6.0, 3.0]\n",
            "(1)\n",
            "[[ 1.  -2.5  0.   1.5  0.   0.   6. ]\n",
            " [ 0.  -0.5  1.   0.5  0.   0.   2. ]\n",
            " [ 0.   1.5  0.  -0.5  1.   0.   4. ]\n",
            " [ 0.   2.5  0.  -1.5  0.   1.   3. ]]\n",
            "Colunas da Base: [2, 4, 5]\n",
            "Não base: {1, 3}\n",
            "Fatores limitantes para entrada de X1: [inf, 2.6666666666666665, 1.2]\n",
            "(2)\n",
            "[[ 1.   0.   0.   0.   0.   1.   9. ]\n",
            " [ 0.   0.   1.   0.2  0.   0.2  2.6]\n",
            " [ 0.   0.   0.   0.4  1.  -0.6  2.2]\n",
            " [ 0.   1.   0.  -0.6  0.   0.4  1.2]]\n",
            "Colunas da Base: [2, 4, 1]\n",
            "Não base: {3, 5}\n",
            "X_base:\n",
            "X2 = 2.60\n",
            "X4 = 2.20\n",
            "X1 = 1.20\n"
          ],
          "name": "stdout"
        }
      ]
    },
    {
      "cell_type": "markdown",
      "metadata": {
        "id": "54lhMe0aXOdc",
        "colab_type": "text"
      },
      "source": [
        "Observando o resultado a cima, podemos notar que $x_3$ pode entrar na base sem influenciar no valor da função objetivo $Z$."
      ]
    },
    {
      "cell_type": "code",
      "metadata": {
        "id": "w6eT4ZsnYKep",
        "colab_type": "code",
        "colab": {
          "base_uri": "https://localhost:8080/",
          "height": 34
        },
        "outputId": "02bd7c42-797b-455e-ee73-43a731ec46d5"
      },
      "source": [
        "# Calculando o vetor de fatores limitantes para x3\n",
        "f_lim = Aa[1:, -1]/Aa[1:,3]\n",
        "print(f_lim)"
      ],
      "execution_count": 12,
      "outputs": [
        {
          "output_type": "stream",
          "text": [
            "[13.   5.5 -2. ]\n"
          ],
          "name": "stdout"
        }
      ]
    },
    {
      "cell_type": "markdown",
      "metadata": {
        "id": "rCUbRgS6YkRM",
        "colab_type": "text"
      },
      "source": [
        "Substitundo $x_1$ por $x_3$ na base, teremos então:"
      ]
    },
    {
      "cell_type": "code",
      "metadata": {
        "id": "hI_hltlUXes1",
        "colab_type": "code",
        "colab": {
          "base_uri": "https://localhost:8080/",
          "height": 204
        },
        "outputId": "81c6259c-3a9e-4829-89ce-4a8b598ea1c9"
      },
      "source": [
        "B = [2,3,1]\n",
        "r = simplex(Aa,B)"
      ],
      "execution_count": 13,
      "outputs": [
        {
          "output_type": "stream",
          "text": [
            "(0)\n",
            "[[ 1.   0.   0.   0.   0.   1.   9. ]\n",
            " [ 0.   0.   1.   0.  -0.5  0.5  1.5]\n",
            " [ 0.   0.   0.   1.   2.5 -1.5  5.5]\n",
            " [ 0.   1.   0.   0.   1.5 -0.5  4.5]]\n",
            "Colunas da Base: [2, 3, 1]\n",
            "Não base: {4, 5}\n",
            "X_base:\n",
            "X2 = 1.50\n",
            "X3 = 5.50\n",
            "X1 = 4.50\n"
          ],
          "name": "stdout"
        }
      ]
    },
    {
      "cell_type": "markdown",
      "metadata": {
        "id": "a5PjSJ4JYyuo",
        "colab_type": "text"
      },
      "source": [
        "Sendo assim, podemos encontrar todas as soluções possiveis, todas as combinações de $x_1$ e $x_2$ que resultam nesse valor ótimo de $Z_{ótimo} = 9$, fazendo a combinação convexa desses dois resultados.\n",
        "\n",
        "\n",
        "\\begin{equation}\n",
        "x = \\alpha\n",
        "\\begin{bmatrix}\n",
        "4.5\\\\\n",
        "1.5\n",
        "\\end{bmatrix}\n",
        "+ (1-\\alpha)\n",
        "\\begin{bmatrix}\n",
        "1.2\\\\\n",
        "2.6\n",
        "\\end{bmatrix}\n",
        "\\end{equation}\n",
        "\n",
        "ou ainda,\n",
        "\n",
        "\\begin{equation}\n",
        "x = \\alpha\n",
        "\\begin{bmatrix}\n",
        "-3.3\\\\\n",
        "1.1\n",
        "\\end{bmatrix}\n",
        "+\n",
        "\\begin{bmatrix}\n",
        "4.5\\\\\n",
        "1.5\n",
        "\\end{bmatrix}\n",
        "\\end{equation}\n",
        "\n",
        "Para todo $0 \\leq \\alpha \\leq 1$\n"
      ]
    },
    {
      "cell_type": "markdown",
      "metadata": {
        "id": "5RdPSVfRctLC",
        "colab_type": "text"
      },
      "source": [
        "# Questão 8"
      ]
    },
    {
      "cell_type": "code",
      "metadata": {
        "id": "Slmxi_P1csoe",
        "colab_type": "code",
        "colab": {
          "base_uri": "https://localhost:8080/",
          "height": 408
        },
        "outputId": "db5e1ade-e528-434f-aa1b-a7587ea9e903"
      },
      "source": [
        "Aa = np.array([[1, 0, 0, 0, 0, 1, 1, 0],\n",
        "               [0, 2, 6, 2, 1, 1, 0, 3],\n",
        "               [0, 6, 4, 4, -6, 0, 1, 2]], dtype = np.longdouble)\n",
        "B = [5,6]\n",
        "\n",
        "r = simplex(Aa, B)"
      ],
      "execution_count": 14,
      "outputs": [
        {
          "output_type": "stream",
          "text": [
            "(0)\n",
            "[[  1.  -8. -10.  -6.   5.   0.   0.  -5.]\n",
            " [  0.   2.   6.   2.   1.   1.   0.   3.]\n",
            " [  0.   6.   4.   4.  -6.   0.   1.   2.]]\n",
            "Colunas da Base: [5, 6]\n",
            "Não base: {1, 2, 3, 4}\n",
            "Fatores limitantes para entrada de X2: [0.5, 0.5]\n",
            "(1)\n",
            "[[ 1.   -4.67  0.   -2.67  6.67  1.67  0.    0.  ]\n",
            " [ 0.    0.33  1.    0.33  0.17  0.17  0.    0.5 ]\n",
            " [ 0.    4.67  0.    2.67 -6.67 -0.67  1.    0.  ]]\n",
            "Colunas da Base: [2, 6]\n",
            "Não base: {1, 3, 4, 5}\n",
            "Fatores limitantes para entrada de X1: [1.5, 0.0]\n",
            "(2)\n",
            "[[ 1.    0.    0.    0.    0.    1.    1.    0.  ]\n",
            " [ 0.    0.    1.    0.14  0.64  0.21 -0.07  0.5 ]\n",
            " [ 0.    1.    0.    0.57 -1.43 -0.14  0.21  0.  ]]\n",
            "Colunas da Base: [2, 1]\n",
            "Não base: {3, 4, 5, 6}\n",
            "X_base:\n",
            "X2 = 0.50\n",
            "X1 = 0.00\n"
          ],
          "name": "stdout"
        }
      ]
    },
    {
      "cell_type": "markdown",
      "metadata": {
        "id": "Y03g7DZcjvsL",
        "colab_type": "text"
      },
      "source": [
        "Análisando o resultado a cima, podemos observar que outra solução poderia ser colocar $x_3$ ou $x_4$ na base, sem alterar o valor da função objetivo. Calculando os fatores limitantes, podemos concluir que $x_3$ ou $x_4$ podem entrar no lugar de $x_1$."
      ]
    },
    {
      "cell_type": "code",
      "metadata": {
        "id": "KgsV1m6hjZiM",
        "colab_type": "code",
        "colab": {
          "base_uri": "https://localhost:8080/",
          "height": 170
        },
        "outputId": "194a6c2b-ec63-4f4c-d0bc-db3833079348"
      },
      "source": [
        "# Outra solução\n",
        "B = [2,3]\n",
        "r = simplex(Aa, B)"
      ],
      "execution_count": 15,
      "outputs": [
        {
          "output_type": "stream",
          "text": [
            "(0)\n",
            "[[ 1.    0.    0.    0.    0.    1.    1.    0.  ]\n",
            " [ 0.   -0.25  1.    0.    1.    0.25 -0.13  0.5 ]\n",
            " [ 0.    1.75  0.    1.   -2.5  -0.25  0.38  0.  ]]\n",
            "Colunas da Base: [2, 3]\n",
            "Não base: {1, 4, 5, 6}\n",
            "X_base:\n",
            "X2 = 0.50\n",
            "X3 = 0.00\n"
          ],
          "name": "stdout"
        }
      ]
    },
    {
      "cell_type": "code",
      "metadata": {
        "id": "BcAI-9pDMNCb",
        "colab_type": "code",
        "colab": {
          "base_uri": "https://localhost:8080/",
          "height": 170
        },
        "outputId": "d4b2af9e-e77a-4bf7-f931-7741fc431256"
      },
      "source": [
        "B = [2,4]\n",
        "r = simplex(Aa,B)"
      ],
      "execution_count": 16,
      "outputs": [
        {
          "output_type": "stream",
          "text": [
            "(0)\n",
            "[[ 1.    0.    0.    0.    0.    1.    1.    0.  ]\n",
            " [ 0.    0.45  1.    0.4   0.    0.15  0.02  0.5 ]\n",
            " [-0.   -0.7  -0.   -0.4   1.    0.1  -0.15 -0.  ]]\n",
            "Colunas da Base: [2, 4]\n",
            "Não base: {1, 3, 5, 6}\n",
            "X_base:\n",
            "X2 = 0.50\n",
            "X4 = -0.00\n"
          ],
          "name": "stdout"
        }
      ]
    },
    {
      "cell_type": "markdown",
      "metadata": {
        "id": "-01HLvdKCqrU",
        "colab_type": "text"
      },
      "source": [
        "# Questão 9"
      ]
    },
    {
      "cell_type": "markdown",
      "metadata": {
        "id": "ta4DHYSxG1QA",
        "colab_type": "text"
      },
      "source": [
        "Função objetivo artificial:\n",
        "\\begin{equation}\n",
        "Máx. Z = Máx(-W) = x_5 + x_6\n",
        "\\end{equation}\n",
        "\n",
        "\\begin{cases}\n",
        "Z + x_5 + x_6 = 0\\\\\n",
        "2x_1 + 6x_2 + 2x_3 + x_4 + x_5 = 4\\\\\n",
        "6x_1 + 4x_2 + 4x_3 - 6x_4 + x_6 = 2\n",
        "\\end{cases}\n",
        "\n",
        "Resultando na seguinte matriz aumentada,\n",
        "\\begin{bmatrix}\n",
        "1 &0 &0 &0 &0 &1 &1 &0\\\\\n",
        "0 &2 &6 &2 &1 &1 &0 &4\\\\\n",
        "0 &6 &4 &4 &-6 &0 &1 &2\n",
        "\\end{bmatrix}\n",
        "\n",
        "Cuja base óbvia é $B = \\{x_5, x_6\\}$\n"
      ]
    },
    {
      "cell_type": "code",
      "metadata": {
        "id": "2gvJmFaHCrvd",
        "colab_type": "code",
        "colab": {
          "base_uri": "https://localhost:8080/",
          "height": 408
        },
        "outputId": "43d4296c-2dfa-44eb-f228-98a870a3a717"
      },
      "source": [
        "Aa = np.array([[1, 0, 0, 0, 0, 1, 1, 0],\n",
        "               [0, 2, 6, 2, 1, 1, 0, 4],\n",
        "               [0, 6, 4, 4, -6, 0, 1, 2]], dtype = np.double)\n",
        "B = [5,6]\n",
        "r = simplex(Aa, B)"
      ],
      "execution_count": 17,
      "outputs": [
        {
          "output_type": "stream",
          "text": [
            "(0)\n",
            "[[  1.  -8. -10.  -6.   5.   0.   0.  -6.]\n",
            " [  0.   2.   6.   2.   1.   1.   0.   4.]\n",
            " [  0.   6.   4.   4.  -6.   0.   1.   2.]]\n",
            "Colunas da Base: [5, 6]\n",
            "Não base: {1, 2, 3, 4}\n",
            "Fatores limitantes para entrada de X2: [0.6666666666666666, 0.5]\n",
            "(1)\n",
            "[[  1.     7.     0.     4.   -10.     0.     2.5   -1.  ]\n",
            " [  0.    -7.     0.    -4.    10.     1.    -1.5    1.  ]\n",
            " [  0.     1.5    1.     1.    -1.5    0.     0.25   0.5 ]]\n",
            "Colunas da Base: [5, 2]\n",
            "Não base: {1, 3, 4, 6}\n",
            "Fatores limitantes para entrada de X4: [0.1, inf]\n",
            "(2)\n",
            "[[ 1.    0.    0.    0.    0.    1.    1.    0.  ]\n",
            " [ 0.   -0.7   0.   -0.4   1.    0.1  -0.15  0.1 ]\n",
            " [ 0.    0.45  1.    0.4   0.    0.15  0.03  0.65]]\n",
            "Colunas da Base: [4, 2]\n",
            "Não base: {1, 3, 5, 6}\n",
            "X_base:\n",
            "X4 = 0.10\n",
            "X2 = 0.65\n"
          ],
          "name": "stdout"
        }
      ]
    },
    {
      "cell_type": "markdown",
      "metadata": {
        "id": "-V95nOvKGIQL",
        "colab_type": "text"
      },
      "source": [
        "Analisando o resultado a cima, podemos observar que as soluções básicas possiveis são:"
      ]
    },
    {
      "cell_type": "code",
      "metadata": {
        "id": "86Rz9yhvDVJH",
        "colab_type": "code",
        "colab": {
          "base_uri": "https://localhost:8080/",
          "height": 527
        },
        "outputId": "4b3e1af3-89d2-496d-bd3a-00ec36144a6b"
      },
      "source": [
        "print('X4 e X1 na base:')\n",
        "B = [4,1]\n",
        "r = simplex(Aa,B)\n",
        "\n",
        "print('X4 e X2 na base:')\n",
        "B = [4,2]\n",
        "r = simplex(Aa,B)\n",
        "\n",
        "print('X4 e X3 na base:')\n",
        "B = [4,3]\n",
        "r = simplex(Aa,B)"
      ],
      "execution_count": 18,
      "outputs": [
        {
          "output_type": "stream",
          "text": [
            "X4 e X1 na base:\n",
            "(0)\n",
            "[[ 1.    0.    0.    0.    0.    1.    1.    0.  ]\n",
            " [ 0.    0.    1.56  0.22  1.    0.33 -0.11  1.11]\n",
            " [ 0.    1.    2.22  0.89  0.    0.33  0.06  1.44]]\n",
            "Colunas da Base: [4, 1]\n",
            "Não base: {2, 3, 5, 6}\n",
            "X_base:\n",
            "X4 = 1.11\n",
            "X1 = 1.44\n",
            "X4 e X2 na base:\n",
            "(0)\n",
            "[[ 1.    0.    0.    0.    0.    1.    1.    0.  ]\n",
            " [ 0.   -0.7   0.   -0.4   1.    0.1  -0.15  0.1 ]\n",
            " [ 0.    0.45  1.    0.4   0.    0.15  0.03  0.65]]\n",
            "Colunas da Base: [4, 2]\n",
            "Não base: {1, 3, 5, 6}\n",
            "X_base:\n",
            "X4 = 0.10\n",
            "X2 = 0.65\n",
            "X4 e X3 na base:\n",
            "(0)\n",
            "[[ 1.    0.    0.    0.    0.    1.    1.    0.  ]\n",
            " [ 0.   -0.25  1.    0.    1.    0.25 -0.12  0.75]\n",
            " [ 0.    1.13  2.5   1.    0.    0.38  0.06  1.63]]\n",
            "Colunas da Base: [4, 3]\n",
            "Não base: {1, 2, 5, 6}\n",
            "X_base:\n",
            "X4 = 0.75\n",
            "X3 = 1.63\n"
          ],
          "name": "stdout"
        }
      ]
    },
    {
      "cell_type": "markdown",
      "metadata": {
        "id": "-dvSeYgQH6Ah",
        "colab_type": "text"
      },
      "source": [
        "# Questão 10"
      ]
    },
    {
      "cell_type": "markdown",
      "metadata": {
        "id": "s2vKAM-FJPFF",
        "colab_type": "text"
      },
      "source": [
        "Mínimizando a seguinte função objetivo artificial:\n",
        "\\begin{equation}\n",
        "Mín. W = x_4 + x_5\\\\\n",
        "Máx.(-W) = -x_4 - x_5 = Máx(W')\n",
        "\\end{equation}\n",
        "\n",
        "\\begin{cases}\n",
        "W' + x_4 + x_5 = 0\\\\\n",
        "3x_1 + 4x_2 + 3x_3 + x_4 = 7\\\\\n",
        "-6x_1 + 20x_2 - 35x_3 + x_5 = 17\n",
        "\\end{cases}\n",
        "\n",
        "Resultando na seguinte matriz aumentada, para ser aplicada ao algoritmo simplex.\n",
        "\n",
        "\\begin{equation}\n",
        "A_a=\n",
        "\\begin{bmatrix}\n",
        "1& 0& 0& 0& 1& 1& 0\\\\\n",
        "0& 3& 4& 3& 1& 0& 7\\\\\n",
        "0& -6& 20& -35& 0& 1& 17\n",
        "\\end{bmatrix}\n",
        "\\end{equation}\n",
        "\n",
        "\n"
      ]
    },
    {
      "cell_type": "code",
      "metadata": {
        "id": "2sye09VXKUCn",
        "colab_type": "code",
        "colab": {
          "base_uri": "https://localhost:8080/",
          "height": 408
        },
        "outputId": "2b2d841b-3530-4536-ef22-5be417ea55db"
      },
      "source": [
        "Aa_q10 = np.array([[1, 0, 0, 0, 1, 1, 0],\n",
        "                  [0, 3, 4, 3, 1, 0, 7],\n",
        "                  [0, -6, 20, -35, 0, 1, 17]], dtype = np.longdouble)\n",
        "B = [4,5]\n",
        "r = simplex(Aa_q10,B)"
      ],
      "execution_count": 19,
      "outputs": [
        {
          "output_type": "stream",
          "text": [
            "(0)\n",
            "[[  1.   3. -24.  32.   0.   0. -24.]\n",
            " [  0.   3.   4.   3.   1.   0.   7.]\n",
            " [  0.  -6.  20. -35.   0.   1.  17.]]\n",
            "Colunas da Base: [4, 5]\n",
            "Não base: {1, 2, 3}\n",
            "Fatores limitantes para entrada de X2: [1.75, 0.85]\n",
            "(1)\n",
            "[[  1.    -4.2    0.   -10.     0.     1.2   -3.6 ]\n",
            " [  0.     4.2    0.    10.     1.    -0.2    3.6 ]\n",
            " [  0.    -0.3    1.    -1.75   0.     0.05   0.85]]\n",
            "Colunas da Base: [4, 2]\n",
            "Não base: {1, 3, 5}\n",
            "Fatores limitantes para entrada de X3: [0.35999999999999999999, inf]\n",
            "(2)\n",
            "[[ 1.00e+00 -4.34e-19  0.00e+00  0.00e+00  1.00e+00  1.00e+00  1.30e-18]\n",
            " [ 0.00e+00  4.20e-01  0.00e+00  1.00e+00  1.00e-01 -2.00e-02  3.60e-01]\n",
            " [ 0.00e+00  4.35e-01  1.00e+00  0.00e+00  1.75e-01  1.50e-02  1.48e+00]]\n",
            "Colunas da Base: [3, 2]\n",
            "Não base: {1, 4, 5}\n",
            "X_base:\n",
            "X3 = 0.36\n",
            "X2 = 1.48\n"
          ],
          "name": "stdout"
        }
      ]
    },
    {
      "cell_type": "markdown",
      "metadata": {
        "id": "_qVc6mIzH8WJ",
        "colab_type": "text"
      },
      "source": [
        "# Questão 11"
      ]
    },
    {
      "cell_type": "markdown",
      "metadata": {
        "id": "WHkP2Fg0LajL",
        "colab_type": "text"
      },
      "source": [
        "$Máx Z = 3x_1 + 2x_2 - 5x_3$ utilizando a solução básica compativel da questão anterior.\n",
        "\n",
        "Solução compativel básica da questão 10:\n",
        "\n",
        "\\begin{bmatrix}\n",
        "0& 0.42& 0& 1& 0.36\\\\\n",
        "0& 0.44& 1& 0& 1.5\n",
        "\\end{bmatrix}"
      ]
    },
    {
      "cell_type": "code",
      "metadata": {
        "id": "jvRM-syTLHMA",
        "colab_type": "code",
        "colab": {
          "base_uri": "https://localhost:8080/",
          "height": 289
        },
        "outputId": "1f530eb2-6f36-4b3b-96cf-0d5cb7c3a20a"
      },
      "source": [
        "# Procedimento para selecionar apenas a matriz com a solução básica, sem a linha zero\n",
        "# e sem as linhas das variaveis artificiais\n",
        "Aa_q11 = np.zeros((3, 5), dtype = np.double)\n",
        "Aa_q11[0,:] = [1, -3, -2, 5, 0]\n",
        "Aa_q11[1:,:4]= Aa_q10[1:,:4].copy()\n",
        "Aa_q11[1:,-1]= Aa_q10[1:,-1].copy()\n",
        "r = simplex(Aa_q11,B)"
      ],
      "execution_count": 20,
      "outputs": [
        {
          "output_type": "stream",
          "text": [
            "(0)\n",
            "[[ 1.   -4.23  0.    0.    1.16]\n",
            " [ 0.    0.42  0.    1.    0.36]\n",
            " [ 0.    0.43  1.    0.    1.48]]\n",
            "Colunas da Base: [3, 2]\n",
            "Não base: {1}\n",
            "Fatores limitantes para entrada de X1: [0.8571428571428571, 3.4022988505747125]\n",
            "(1)\n",
            "[[ 1.    0.    0.   10.07  4.79]\n",
            " [ 0.    1.    0.    2.38  0.86]\n",
            " [ 0.    0.    1.   -1.04  1.11]]\n",
            "Colunas da Base: [1, 2]\n",
            "Não base: {3}\n",
            "X_base:\n",
            "X1 = 0.86\n",
            "X2 = 1.11\n"
          ],
          "name": "stdout"
        }
      ]
    },
    {
      "cell_type": "markdown",
      "metadata": {
        "id": "T54pwjEhH9cn",
        "colab_type": "text"
      },
      "source": [
        "# Questão 12"
      ]
    },
    {
      "cell_type": "markdown",
      "metadata": {
        "id": "bt9nuEqRNsL4",
        "colab_type": "text"
      },
      "source": [
        "\\begin{equation}\n",
        "Máx. Z = 6x_1 + 10x_2\n",
        "\\end{equation}\n",
        "\n",
        "Sujeita a,\n",
        "\\begin{cases}\n",
        "x_1 \\leq 8\\\\\n",
        "x_2 \\leq 12\\\\\n",
        "6x_1 + 4x_2 \\geq 36\\\\\n",
        "x_1,x_2 \\geq 0\n",
        "\\end{cases}"
      ]
    },
    {
      "cell_type": "markdown",
      "metadata": {
        "id": "tx_wHt7xNgY5",
        "colab_type": "text"
      },
      "source": [
        "## Solução gráfica"
      ]
    },
    {
      "cell_type": "code",
      "metadata": {
        "id": "DUHstyngOHPW",
        "colab_type": "code",
        "cellView": "both",
        "colab": {
          "base_uri": "https://localhost:8080/",
          "height": 281
        },
        "outputId": "1c6be7cf-052f-4f59-bc07-3c9579a63564"
      },
      "source": [
        "#@title\n",
        "import matplotlib.pyplot as plt\n",
        "import numpy as np\n",
        "\n",
        "x1 = np.linspace(0, 8, 100)\n",
        "x2 = [[12]*100, (36 - 6*x1)/4.0]\n",
        "\n",
        "plt.plot(x1, x2[0])\n",
        "plt.plot(x1, x2[1])\n",
        "\n",
        "plt.fill_between(x1, x2[0], 0)\n",
        "plt.fill_between(x1, x2[1], 0, facecolor = 'white')\n",
        "\n",
        "plt.ylabel(r'$x_2$')\n",
        "plt.xlabel(r'$x_1$')\n",
        "plt.xlim([0,10])\n",
        "plt.ylim([0,13])\n",
        "plt.show()"
      ],
      "execution_count": 21,
      "outputs": [
        {
          "output_type": "display_data",
          "data": {
            "image/png": "[encoded data removed]",
            "text/plain": [
              "<Figure size 432x288 with 1 Axes>"
            ]
          },
          "metadata": {
            "tags": [],
            "needs_background": "light"
          }
        }
      ]
    },
    {
      "cell_type": "markdown",
      "metadata": {
        "id": "QAlC8u4NQtem",
        "colab_type": "text"
      },
      "source": [
        "Análisando o gráfico podemos notar que o máximo de $Z$ ocorre quando $x_1 = 8$ e $x_2 = 12$, resultando em $Z = 168$"
      ]
    },
    {
      "cell_type": "markdown",
      "metadata": {
        "id": "HC0z8NcoNj7j",
        "colab_type": "text"
      },
      "source": [
        "## Função objetivo artificial"
      ]
    },
    {
      "cell_type": "markdown",
      "metadata": {
        "id": "4yRDaNhCSK1t",
        "colab_type": "text"
      },
      "source": [
        "Acrescentando variaveis de folga e uma variável artificial teremos,\n",
        "\n",
        "\\begin{cases}\n",
        "x_1 + x_3 = 8\\\\\n",
        "x_2 + x_4 = 12\\\\\n",
        "6x_1 + 4x_2 - x_5 + x_6 = 36\n",
        "\\end{cases}\n",
        "\n",
        "E para minimizar a váriavel artificial para obtermos uma solução compativel básica inicial teremos a seguinte função objetivo artificial, $W = x_6$\n",
        "\n",
        "\\begin{equation}\n",
        " Máx.(-W) = -x_6 = Máx.(W')\n",
        "\\end{equation}\n",
        "\n",
        "\\\\\n",
        "\\begin{cases}\n",
        "W' + x_6 = 0\\\\\n",
        "x_1 + x_3 = 8\\\\\n",
        "x_2 + x_4 = 12\\\\\n",
        "6x_1 + 4x_2 - x_5 + x_6 = 36\n",
        "\\end{cases}\n",
        "\n",
        "Resultando na seguinte matriz aumentada,\n",
        "\\begin{bmatrix}\n",
        "1& 0& 0& 0& 0& 0& 1& 0\\\\\n",
        "0& 1& 0& 1& 0& 0& 0& 8\\\\\n",
        "0& 0& 1& 0& 1& 0& 0& 12\\\\\n",
        "0& 6& 4& 0& 0& -1& 1& 36\n",
        "\\end{bmatrix}\n",
        "\n"
      ]
    },
    {
      "cell_type": "code",
      "metadata": {
        "id": "72yK5QCVTqwL",
        "colab_type": "code",
        "colab": {
          "base_uri": "https://localhost:8080/",
          "height": 340
        },
        "outputId": "1fbac079-c9c8-4536-fc98-f193907229e7"
      },
      "source": [
        "Aa_b = np.array([[1, 0, 0, 0, 0, 0, 1, 0],\n",
        "               [0, 1, 0, 1, 0, 0, 0, 8],\n",
        "               [0, 0, 1, 0, 1, 0, 0, 12],\n",
        "               [0, 6, 4, 0, 0, -1, 1, 36]], dtype = np.double)\n",
        "B = [3, 4, 6]\n",
        "\n",
        "r = simplex(Aa_b,B)"
      ],
      "execution_count": 22,
      "outputs": [
        {
          "output_type": "stream",
          "text": [
            "(0)\n",
            "[[  1.  -6.  -4.   0.   0.   1.   0. -36.]\n",
            " [  0.   1.   0.   1.   0.   0.   0.   8.]\n",
            " [  0.   0.   1.   0.   1.   0.   0.  12.]\n",
            " [  0.   6.   4.   0.   0.  -1.   1.  36.]]\n",
            "Colunas da Base: [3, 4, 6]\n",
            "Não base: {1, 2, 5}\n",
            "Fatores limitantes para entrada de X1: [8.0, inf, 6.0]\n",
            "(1)\n",
            "[[ 1.    0.    0.    0.    0.    0.    1.    0.  ]\n",
            " [ 0.    0.   -0.67  1.    0.    0.17 -0.17  2.  ]\n",
            " [ 0.    0.    1.    0.    1.    0.    0.   12.  ]\n",
            " [ 0.    1.    0.67  0.    0.   -0.17  0.17  6.  ]]\n",
            "Colunas da Base: [3, 4, 1]\n",
            "Não base: {2, 5, 6}\n",
            "X_base:\n",
            "X3 = 2.00\n",
            "X4 = 12.00\n",
            "X1 = 6.00\n"
          ],
          "name": "stdout"
        }
      ]
    },
    {
      "cell_type": "markdown",
      "metadata": {
        "id": "86y7HDMlNn0O",
        "colab_type": "text"
      },
      "source": [
        "## Simplex"
      ]
    },
    {
      "cell_type": "markdown",
      "metadata": {
        "id": "CFjf51HWVMTG",
        "colab_type": "text"
      },
      "source": [
        "utilizando a solução base inicial do item anterior e trocando a linha zero pela função objetivo, $Z = 6x_1 + 10x_2$, teremos:"
      ]
    },
    {
      "cell_type": "code",
      "metadata": {
        "id": "8K67ssluUuzE",
        "colab_type": "code",
        "colab": {
          "base_uri": "https://localhost:8080/",
          "height": 612
        },
        "outputId": "30d7570d-95c1-4abd-ad2f-865bca86cffd"
      },
      "source": [
        "Aa_c = np.zeros((4,7), dtype = np.double)\n",
        "Aa_c[0,:] = [1, -6, -10, 0, 0, 0, 0]\n",
        "Aa_c[1:,:6]= Aa_b[1:,:6]\n",
        "Aa_c[1:,-1]= Aa_b[1:,-1]\n",
        "\n",
        "r = simplex(Aa_c,B)"
      ],
      "execution_count": 23,
      "outputs": [
        {
          "output_type": "stream",
          "text": [
            "(0)\n",
            "[[ 1.    0.   -6.    0.    0.   -1.   36.  ]\n",
            " [ 0.    0.   -0.67  1.    0.    0.17  2.  ]\n",
            " [ 0.    0.    1.    0.    1.    0.   12.  ]\n",
            " [ 0.    1.    0.67  0.    0.   -0.17  6.  ]]\n",
            "Colunas da Base: [3, 4, 1]\n",
            "Não base: {2, 5}\n",
            "Fatores limitantes para entrada de X2: [inf, 12.0, 9.0]\n",
            "(1)\n",
            "[[ 1.    9.    0.    0.    0.   -2.5  90.  ]\n",
            " [ 0.    1.    0.    1.    0.    0.    8.  ]\n",
            " [ 0.   -1.5   0.    0.    1.    0.25  3.  ]\n",
            " [ 0.    1.5   1.    0.    0.   -0.25  9.  ]]\n",
            "Colunas da Base: [3, 4, 2]\n",
            "Não base: {1, 5}\n",
            "Fatores limitantes para entrada de X5: [inf, 12.0, inf]\n",
            "(2)\n",
            "[[  1.  -6.   0.   0.  10.   0. 120.]\n",
            " [  0.   1.   0.   1.   0.   0.   8.]\n",
            " [  0.  -6.   0.   0.   4.   1.  12.]\n",
            " [  0.   0.   1.   0.   1.   0.  12.]]\n",
            "Colunas da Base: [3, 5, 2]\n",
            "Não base: {1, 4}\n",
            "Fatores limitantes para entrada de X1: [8.0, inf, inf]\n",
            "(3)\n",
            "[[  1.   0.   0.   6.  10.   0. 168.]\n",
            " [  0.   1.   0.   1.   0.   0.   8.]\n",
            " [  0.   0.   0.   6.   4.   1.  60.]\n",
            " [  0.   0.   1.   0.   1.   0.  12.]]\n",
            "Colunas da Base: [1, 5, 2]\n",
            "Não base: {3, 4}\n",
            "X_base:\n",
            "X1 = 8.00\n",
            "X5 = 60.00\n",
            "X2 = 12.00\n"
          ],
          "name": "stdout"
        }
      ]
    },
    {
      "cell_type": "markdown",
      "metadata": {
        "id": "aB5Q_XOTICoJ",
        "colab_type": "text"
      },
      "source": [
        "# Questão 13"
      ]
    },
    {
      "cell_type": "markdown",
      "metadata": {
        "id": "2Znzxkbnb4GZ",
        "colab_type": "text"
      },
      "source": [
        "\\begin{equation}\n",
        "Máx. Z = x_2\\\\\n",
        "\\begin{cases}\n",
        "2x_1 + 3x_2 \\leq 9\\\\\n",
        "|x_1 - x_2| \\leq 1\\\\\n",
        "x \\geq 0\n",
        "\\end{cases}\n",
        "\\end{equation}\n",
        "\n",
        "Para melhorar a compreensão das condições, reformatei a inequação com módulo para,\n",
        "\n",
        "\\begin{cases}\n",
        "2x_1 + 3x_2 \\leq 9\\\\\n",
        "x_1 - x_2 \\leq 1\\\\\n",
        "-x_1+ x_2 \\leq 1\n",
        "\\end{cases}"
      ]
    },
    {
      "cell_type": "markdown",
      "metadata": {
        "id": "vpskd_tJctzW",
        "colab_type": "text"
      },
      "source": [
        "## Solução gráfica"
      ]
    },
    {
      "cell_type": "markdown",
      "metadata": {
        "id": "jn_wqP5Ic9iI",
        "colab_type": "text"
      },
      "source": [
        "\\begin{cases}\n",
        "x_2 \\leq 3 - \\frac{2}{3}x_1\\\\\n",
        "x_2 \\geq x_1 - 1\\\\\n",
        "x_2 \\leq x_1 + 1\n",
        "\\end{cases}"
      ]
    },
    {
      "cell_type": "code",
      "metadata": {
        "id": "vQPPu0SsXaF2",
        "colab_type": "code",
        "colab": {
          "base_uri": "https://localhost:8080/",
          "height": 285
        },
        "outputId": "967d39d4-62e4-4f4c-b109-924de1028ed2"
      },
      "source": [
        "import matplotlib.pyplot as plt\n",
        "import numpy as np\n",
        "\n",
        "x1 = np.linspace(0,10, 100)\n",
        "x2 = [3.0 - (2.0/3.0)*x1,  x1 - 1.0,  x1 + 1.0]\n",
        "\n",
        "plt.plot(x1, x2[0])\n",
        "plt.plot(x1, x2[1])\n",
        "plt.plot(x1, x2[2])\n",
        "\n",
        "plt.fill_between(x1, x2[0], 0)\n",
        "plt.fill_between(x1, x2[2], x2[0], facecolor='white')\n",
        "plt.fill_between(x1, x2[1], 0, facecolor='white')\n",
        "\n",
        "plt.ylim([0,4])\n",
        "plt.xlim([0,5])\n",
        "plt.xlabel(r'$x_2$')\n",
        "plt.xlabel(r'$x_1$')\n",
        "plt.show()"
      ],
      "execution_count": 24,
      "outputs": [
        {
          "output_type": "display_data",
          "data": {
            "image/png": "[encoded data removed]",
            "text/plain": [
              "<Figure size 432x288 with 1 Axes>"
            ]
          },
          "metadata": {
            "tags": [],
            "needs_background": "light"
          }
        }
      ]
    },
    {
      "cell_type": "markdown",
      "metadata": {
        "id": "AGjUCnO_eeqg",
        "colab_type": "text"
      },
      "source": [
        "O ponto ótimo para a função objetivo, analisando a região de factibilidade a cima, é $x_1 = \\frac{6}{5}$ e $Z = x_2 = \\frac{11}{5}$"
      ]
    },
    {
      "cell_type": "markdown",
      "metadata": {
        "id": "_Cv--PGzIAck",
        "colab_type": "text"
      },
      "source": [
        "# Questão 14"
      ]
    }
  ]
}